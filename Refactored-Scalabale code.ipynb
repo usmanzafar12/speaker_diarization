{
 "cells": [
  {
   "cell_type": "code",
   "execution_count": 2,
   "metadata": {
    "collapsed": true
   },
   "outputs": [
    {
     "name": "stderr",
     "output_type": "stream",
     "text": [
      "/home/usman/sde/venv3/lib/python3.6/importlib/_bootstrap.py:219: RuntimeWarning: numpy.dtype size changed, may indicate binary incompatibility. Expected 96, got 88\n",
      "  return f(*args, **kwds)\n"
     ]
    },
    {
     "name": "stdout",
     "output_type": "stream",
     "text": [
      "Import theano\n"
     ]
    },
    {
     "name": "stderr",
     "output_type": "stream",
     "text": [
      "ERROR (theano.gpuarray): pygpu was configured but could not be imported or is too old (version 0.7 or higher required)\n",
      "NoneType: None\n",
      "WARNING:root:WARNNG: libsvm is not installed, please refer to the documentation if you intend to use SVM classifiers\n"
     ]
    }
   ],
   "source": [
    "from speaker_diar import *\n",
    "from concurrent import futures"
   ]
  },
  {
   "cell_type": "code",
   "execution_count": 2,
   "metadata": {},
   "outputs": [],
   "source": [
    "#show = 'TS3011b'\n",
    "dir = 'out-class-test'\n",
    "config = configparser.ConfigParser()\n",
    "config['default'] = {'features': 'basic',\n",
    "                     'linear segment': '1.5-2.5, 3',\n",
    "                     'AHC' : '2.7-2.8 4 value',\n",
    "                     'ivector-AHC': '-10-20 6 values',\n",
    "                        'code': 'modular',\n",
    "                    'notebook': 'Different segmentation experiment',\n",
    "                    'VAD' : \"Using SAD\",\n",
    "                    'sensor': 'headset'}"
   ]
  },
  {
   "cell_type": "code",
   "execution_count": 3,
   "metadata": {},
   "outputs": [],
   "source": [
    "#Parameters\n",
    "params = {'win_size' : 250,\n",
    "          \n",
    "            #linear bic segmentation parameters\n",
    "            #postive value of delta bic indicates we need two separate models for the adjacent segments. \n",
    "            #Here we define the threshodls\n",
    "            'li_bic_p_start' : 1.5,\n",
    "            'li_bic_p_stop' : 2.5,\n",
    "            'li_bic_p_num' : 6,\n",
    "\n",
    "            #bic hac threshold for merging clusters\n",
    "            'bic_hac_start' : 2.7,\n",
    "            'bic_hac_end' : 2.8,\n",
    "            'bic_hac_num' : 2,\n",
    "\n",
    "            #hac_iv threshold\n",
    "            't_min' : -10,\n",
    "            't_max' : 20,\n",
    "            't_num' : 6,\n",
    "\n",
    "            'vit_penalty' : -250}"
   ]
  },
  {
   "cell_type": "code",
   "execution_count": 4,
   "metadata": {},
   "outputs": [],
   "source": [
    "test_set = ['ES2004', 'ES2014', 'IS1009', 'TS3003', 'TS3007', 'EN2002']"
   ]
  },
  {
   "cell_type": "code",
   "execution_count": 5,
   "metadata": {},
   "outputs": [],
   "source": [
    "import os, re\n",
    "files = os.listdir('source.files/')\n",
    "indices = []\n",
    "for temp in test_set:\n",
    "    for index, value in enumerate(files):\n",
    "        if re.search('{}.*'.format(temp), value):\n",
    "            indices.append(index)"
   ]
  },
  {
   "cell_type": "code",
   "execution_count": 6,
   "metadata": {},
   "outputs": [],
   "source": [
    "filtered_test_set = []\n",
    "for value in indices:\n",
    "    filtered_test_set.append(files[value])"
   ]
  },
  {
   "cell_type": "code",
   "execution_count": 7,
   "metadata": {},
   "outputs": [],
   "source": [
    "filtered_train_set = files.copy()\n",
    "for value in filtered_test_set:\n",
    "    index = filtered_train_set.index(value)\n",
    "    filtered_train_set.pop(index)"
   ]
  },
  {
   "cell_type": "code",
   "execution_count": 8,
   "metadata": {},
   "outputs": [],
   "source": [
    "def parallel_process(show_name):\n",
    "    sd = SpeakerDiar(show_name, dir, config)\n",
    "    sd.initialize_parameters(params)\n",
    "    sd.create_features()\n",
    "    sd.train()\n",
    "    return_string = show_name + \"Finished\"\n",
    "    print(return_string)\n",
    "    return return_string"
   ]
  },
  {
   "cell_type": "code",
   "execution_count": 9,
   "metadata": {},
   "outputs": [],
   "source": [
    "tt = filtered_train_set[:]"
   ]
  },
  {
   "cell_type": "code",
   "execution_count": 10,
   "metadata": {
    "collapsed": true
   },
   "outputs": [
    {
     "name": "stdout",
     "output_type": "stream",
     "text": [
      "load:  data/model/ester_model_1024_300_150.h5\n",
      "load:  data/model/ester_model_1024_300_150.h5\n",
      "load:  data/model/ester_model_1024_300_150.h5\n",
      "load:  data/model/ester_model_1024_300_150.h5\n",
      "load:  data/model/ester_model_1024_300_150.h5\n",
      "load:  data/model/ester_model_1024_300_150.h5\n",
      "load:  data/model/ester_model_1024_300_150.h5\n",
      "load:  data/model/ester_model_1024_300_150.h5\n",
      "ES2002aFinished\n",
      "load:  data/model/ester_model_1024_300_150.h5\n",
      "TS3011bFinished\n",
      "Finished\n",
      "load:  data/model/ester_model_1024_300_150.h5\n",
      "ES2006cFinished\n",
      "ES2006bFinished\n",
      "load:  data/model/ester_model_1024_300_150.h5\n",
      "TS3010bFinished\n",
      "load:  data/model/ester_model_1024_300_150.h5\n",
      "load:  data/model/ester_model_1024_300_150.h5\n",
      "IS1004dFinished\n",
      "IS1004cFinished\n",
      "Finished\n",
      "Finished\n",
      "Finished\n",
      "Finished\n",
      "load:  data/model/ester_model_1024_300_150.h5\n",
      "load:  data/model/ester_model_1024_300_150.h5\n",
      "IN1001Finished\n",
      "Finished\n",
      "Finished\n",
      "Finished\n",
      "TS3010aFinished\n",
      "load:  data/model/ester_model_1024_300_150.h5\n",
      "load:  data/model/ester_model_1024_300_150.h5\n",
      "ES2007dFinished\n",
      "IS1004bFinished\n",
      "Finished\n",
      "load:  data/model/ester_model_1024_300_150.h5\n",
      "load:  data/model/ester_model_1024_300_150.h5\n",
      "TS3011dFinished\n",
      "load:  data/model/ester_model_1024_300_150.h5\n",
      "ES2003cFinished\n",
      "Finished\n",
      "ES2003bFinished\n",
      "load:  data/model/ester_model_1024_300_150.h5\n",
      "IN1002Finished\n",
      "Finished\n",
      "Finished\n",
      "Finished\n",
      "Finished\n",
      "Finished\n",
      "load:  data/model/ester_model_1024_300_150.h5\n",
      "load:  data/model/ester_model_1024_300_150.h5\n",
      "ES2007aFinished\n",
      "load:  data/model/ester_model_1024_300_150.h5\n",
      "ES2003aFinished\n",
      "load:  data/model/ester_model_1024_300_150.h5\n",
      "ES2003dFinished\n",
      "load:  data/model/ester_model_1024_300_150.h5\n",
      "TS3010cFinished\n",
      "load:  data/model/ester_model_1024_300_150.h5\n",
      "IS1004aFinished\n",
      "load:  data/model/ester_model_1024_300_150.h5\n",
      "ES2006aFinished\n",
      "load:  data/model/ester_model_1024_300_150.h5\n",
      "ES2007cFinished\n",
      "ES2007bFinished\n",
      "IS1003aFinished\n",
      "load:  data/model/ester_model_1024_300_150.h5\n",
      "load:  data/model/ester_model_1024_300_150.h5\n",
      "load:  data/model/ester_model_1024_300_150.h5\n",
      "EN2001eFinished\n",
      "TS3011aFinished\n",
      "EN2001bFinished\n",
      "load:  data/model/ester_model_1024_300_150.h5\n",
      "load:  data/model/ester_model_1024_300_150.h5\n",
      "load:  data/model/ester_model_1024_300_150.h5\n",
      "IS1003dFinished\n",
      "EN2001aFinished\n",
      "Finished\n",
      "Finished\n",
      "Finished\n",
      "Finished\n",
      "Finished\n",
      "Finished\n",
      "Finished\n",
      "Finished\n",
      "Finished\n",
      "Finished\n",
      "Finished\n",
      "Finished\n",
      "Finished\n",
      "Finished\n",
      "IS1003cFinished\n",
      "ES2006dFinished\n",
      "IS1003bFinished\n",
      "TS3010dFinished\n",
      "TS3011cFinished\n",
      "EN2001dFinished\n",
      "Finished\n",
      "Finished\n",
      "Finished\n",
      "Finished\n",
      "Finished\n",
      "Finished\n"
     ]
    }
   ],
   "source": [
    "with futures.ProcessPoolExecutor() as pool:\n",
    "    for temp in pool.map(parallel_process, tt):\n",
    "        print('Finished')"
   ]
  },
  {
   "cell_type": "code",
   "execution_count": null,
   "metadata": {},
   "outputs": [],
   "source": [
    "#sanity check"
   ]
  },
  {
   "cell_type": "code",
   "execution_count": null,
   "metadata": {},
   "outputs": [],
   "source": [
    "sad_dir = 'sad'\n",
    "source_dir = 'source.files'"
   ]
  },
  {
   "cell_type": "code",
   "execution_count": null,
   "metadata": {},
   "outputs": [],
   "source": [
    "sads = os.listdir(sad_dir)\n",
    "sources = os.listdir(source_dir)"
   ]
  },
  {
   "cell_type": "code",
   "execution_count": null,
   "metadata": {},
   "outputs": [],
   "source": [
    "sad_source = []\n",
    "for sad in sads:\n",
    "    sad_source.append(sad.split('input_oracle_sad_')[1][:-4])\n",
    "    \n",
    "for value in tt:\n",
    "    if value not in sad_source:\n",
    "        print(value)"
   ]
  },
  {
   "cell_type": "code",
   "execution_count": null,
   "metadata": {},
   "outputs": [],
   "source": []
  },
  {
   "cell_type": "code",
   "execution_count": 1,
   "metadata": {},
   "outputs": [
    {
     "data": {
      "text/plain": [
       "2448"
      ]
     },
     "execution_count": 1,
     "metadata": {},
     "output_type": "execute_result"
    }
   ],
   "source": [
    "72*34\n"
   ]
  }
 ],
 "metadata": {
  "kernelspec": {
   "display_name": "Python 2",
   "language": "python",
   "name": "python2"
  },
  "language_info": {
   "codemirror_mode": {
    "name": "ipython",
    "version": 2
   },
   "file_extension": ".py",
   "mimetype": "text/x-python",
   "name": "python",
   "nbconvert_exporter": "python",
   "pygments_lexer": "ipython2",
   "version": "2.7.15"
  }
 },
 "nbformat": 4,
 "nbformat_minor": 2
}
